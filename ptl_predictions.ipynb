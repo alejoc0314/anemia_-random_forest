{
  "cells": [
    {
      "cell_type": "code",
      "execution_count": 42,
      "metadata": {
        "id": "TZQFNfr4sFBB"
      },
      "outputs": [],
      "source": [
        "import pandas as pd\n",
        "import numpy as np\n",
        "from pandas.core.arrays import integer\n",
        "import pandas as pd\n",
        "from sklearn.ensemble import RandomForestClassifier\n",
        "from sklearn.metrics import classification_report\n",
        "\n",
        "# pip install openpyxl - to read the xlsx"
      ]
    },
    {
      "cell_type": "code",
      "execution_count": null,
      "metadata": {
        "colab": {
          "base_uri": "https://localhost:8080/",
          "height": 458
        },
        "id": "_VymTSEAsHAM",
        "outputId": "9340d2c5-f86b-467b-982c-9c8d5e652a6b"
      },
      "outputs": [],
      "source": [
        "ptl_df = pd.read_excel('./PTL.xlsx', decimal=',')\n",
        "ptl_df"
      ]
    },
    {
      "cell_type": "code",
      "execution_count": null,
      "metadata": {
        "colab": {
          "base_uri": "https://localhost:8080/"
        },
        "id": "F4cuGNVouFQj",
        "outputId": "705faf61-4cde-4aa2-c0ab-4b9a33f11de5"
      },
      "outputs": [],
      "source": [
        "ptl_df.columns"
      ]
    },
    {
      "cell_type": "code",
      "execution_count": null,
      "metadata": {
        "colab": {
          "base_uri": "https://localhost:8080/",
          "height": 1000
        },
        "id": "luVb3frdufrZ",
        "outputId": "dc7d33ea-58b1-49df-b8ae-1379effea874"
      },
      "outputs": [],
      "source": [
        "# Lista de columnas a convertir a float\n",
        "columnas_a_convertir_float = ['Hb 1', 'Hb 2', 'Hb 3', 'Hb 4',\n",
        "       'Hb 5', 'RBC 1', 'RBC 2', 'RBC 3', 'RBC 4', 'RBC 5', 'HTC 1', 'HTC 2',\n",
        "       'HTC 3', 'HTC 4', 'HTC 5', 'VCM 1', 'VCM 2', 'VCM 3', 'VCM 4', 'VCM 5',\n",
        "       'HCM 1', 'HCM 2', 'HCM 3', 'HCM 4', 'HCM 5', 'CHCM 1', 'CHCM 2',\n",
        "       'CHCM 3', 'CHCM 4', 'CHCM 5', 'ADE 1', 'ADE 2', 'ADE 3', 'ADE 4',\n",
        "       'ADE 5', 'PLT 1', 'PLT 2', 'PLT 3', 'PLT 4', 'PLT 5']\n",
        "\n",
        "# Convierte las columnas a tipo float\n",
        "ptl_df[columnas_a_convertir_float] = ptl_df[columnas_a_convertir_float].astype(float)\n",
        "\n",
        "ptl_df.dtypes"
      ]
    },
    {
      "cell_type": "code",
      "execution_count": null,
      "metadata": {
        "colab": {
          "base_uri": "https://localhost:8080/",
          "height": 384
        },
        "id": "1EN4ZHAnwsvK",
        "outputId": "1745fbb2-992f-4f88-ab26-ca0462228ee6"
      },
      "outputs": [],
      "source": [
        "ptl_df.describe()"
      ]
    },
    {
      "cell_type": "code",
      "execution_count": null,
      "metadata": {
        "colab": {
          "base_uri": "https://localhost:8080/",
          "height": 300
        },
        "id": "4ZToQP6A0PtN",
        "outputId": "53c41dc6-f64f-4062-be10-ce3d1805bea3"
      },
      "outputs": [],
      "source": [
        "ptl_df[['Hb 1', 'Hb 2', 'Hb 3', 'Hb 4', 'Hb 5']].describe()"
      ]
    },
    {
      "cell_type": "code",
      "execution_count": null,
      "metadata": {
        "colab": {
          "base_uri": "https://localhost:8080/",
          "height": 300
        },
        "id": "GnI1QGAk7WAV",
        "outputId": "be7c2549-8d23-4370-932a-8f0239fdcb88"
      },
      "outputs": [],
      "source": [
        "ptl_df[['PLT 1', 'PLT 2', 'PLT 3', 'PLT 4', 'PLT 5']].describe()"
      ]
    },
    {
      "cell_type": "markdown",
      "metadata": {
        "id": "NLnUBhBrCY3P"
      },
      "source": [
        "EL MODELO"
      ]
    },
    {
      "cell_type": "code",
      "execution_count": null,
      "metadata": {
        "colab": {
          "base_uri": "https://localhost:8080/",
          "height": 516
        },
        "id": "luiTI44sCYQA",
        "outputId": "10deecef-a062-4ce6-bb7b-8a66612267b4"
      },
      "outputs": [],
      "source": [
        "# Define las categorías de riesgo\n",
        "ptl_df[\"Categoría de Riesgo\"] = \"\"\n",
        "\n",
        "# Calcula el coeficiente de variación (CV) entre las columnas 'Hb 1' a 'Hb 5' y almacénalo en una nueva columna\n",
        "ptl_df[\"CV_Hb\"] = ptl_df[[\"Hb 1\", \"Hb 2\", \"Hb 3\", \"Hb 4\", \"Hb 5\"]].std(axis=1) / ptl_df[\n",
        "    [\"Hb 1\", \"Hb 2\", \"Hb 3\", \"Hb 4\", \"Hb 5\"]\n",
        "].mean(axis=1)\n",
        "ptl_df[\"CV_VCM\"] = ptl_df[[\"VCM 1\", \"VCM 2\", \"VCM 3\", \"VCM 4\", \"VCM 5\"]].std(\n",
        "    axis=1\n",
        ") / ptl_df[[\"VCM 1\", \"VCM 2\", \"VCM 3\", \"VCM 4\", \"VCM 5\"]].mean(axis=1)\n",
        "\n",
        "\n",
        "# Define las categorías de riesgo en función de CV_Hb y CV_VCM\n",
        "# Ajusta los umbrales según tus criterios\n",
        "cv_hb_threshold = 0.07\n",
        "cv_vcm_threshold = 0.07\n",
        "\n",
        "# Condiciones para clasificar a los pacientes\n",
        "anemia_condition = (ptl_df[\"CV_Hb\"] > cv_hb_threshold) & (\n",
        "    ptl_df[\"CV_VCM\"] > cv_vcm_threshold\n",
        ")\n",
        "no_anemia_condition = ~anemia_condition\n",
        "\n",
        "# Asigna las categorías de riesgo\n",
        "ptl_df.loc[anemia_condition, \"Categoría de Riesgo\"] = \"Propenso a Desarrollar Anemia\"\n",
        "ptl_df.loc[no_anemia_condition, \"Categoría de Riesgo\"] = \"Sin Riesgo de Anemia\"\n",
        "\n",
        "# Define las características clínicas (X) y las etiquetas (y) para el modelo de anemia\n",
        "X_anemia = ptl_df[[\"CV_Hb\", \"CV_VCM\"]]\n",
        "y_anemia = ptl_df[\"Categoría de Riesgo\"]\n",
        "\n",
        "# Entrena un modelo de clasificación (por ejemplo, Random Forest) para predecir anemia\n",
        "model_anemia = RandomForestClassifier(n_estimators=100, random_state=42)\n",
        "model_anemia.fit(X_anemia, y_anemia)\n",
        "\n",
        "# Realiza predicciones para todos los pacientes\n",
        "predicciones_anemia = model_anemia.predict(X_anemia)\n",
        "\n",
        "# Muestra el DataFrame con las predicciones de anemia\n",
        "ptl_df.head(5)"
      ]
    },
    {
      "cell_type": "code",
      "execution_count": null,
      "metadata": {
        "colab": {
          "base_uri": "https://localhost:8080/",
          "height": 669
        },
        "id": "KWQepqjERlcu",
        "outputId": "db2e9904-8e1e-4303-e47e-178f0810affd"
      },
      "outputs": [],
      "source": [
        "ptl_df[ptl_df['Categoría de Riesgo'] == 'Sin Riesgo de Anemia']"
      ]
    },
    {
      "cell_type": "code",
      "execution_count": null,
      "metadata": {
        "colab": {
          "base_uri": "https://localhost:8080/",
          "height": 999
        },
        "id": "kDa55IILZy-x",
        "outputId": "fb490d7b-617a-4215-e9cf-b51d286ecf21"
      },
      "outputs": [],
      "source": [
        "ptl_df[ptl_df['Categoría de Riesgo'] == 'Propenso a Desarrollar Anemia']"
      ]
    },
    {
      "cell_type": "markdown",
      "metadata": {
        "id": "1ITQYF_QgGCU"
      },
      "source": [
        "Uso de nuevos datos"
      ]
    },
    {
      "cell_type": "code",
      "execution_count": null,
      "metadata": {
        "colab": {
          "base_uri": "https://localhost:8080/",
          "height": 206
        },
        "id": "YOZL5RlsfyCt",
        "outputId": "0761a7d7-02e0-409a-a313-f76b4e0953fc"
      },
      "outputs": [],
      "source": [
        "nuevos_pacientes_df = pd.read_excel('nuevos_pacientes.xlsx')\n",
        "\n",
        "nuevos_pacientes_df.head()"
      ]
    },
    {
      "cell_type": "code",
      "execution_count": 80,
      "metadata": {
        "colab": {
          "base_uri": "https://localhost:8080/",
          "height": 391
        },
        "id": "xrIUL7gxeQpU",
        "outputId": "83053375-d900-4527-bfa4-23e9d9fb0b61"
      },
      "outputs": [],
      "source": [
        "# Calcular el promedio de Hb para los nuevos datos\n",
        "nuevos_pacientes_df[\"CV_Hb\"] = nuevos_pacientes_df[\n",
        "    [\"Hb 1\", \"Hb 2\", \"Hb 3\", \"Hb 4\", \"Hb 5\"]\n",
        "].std(axis=1) / nuevos_pacientes_df[[\"Hb 1\", \"Hb 2\", \"Hb 3\", \"Hb 4\", \"Hb 5\"]].mean(\n",
        "    axis=1\n",
        ")\n",
        "\n",
        "np.random.seed(42)  # Para reproducibilidad\n",
        "\n",
        "nuevos_pacientes_df[\"VCM 1\"] = np.random.randint(80, 100, size=len(nuevos_pacientes_df))\n",
        "nuevos_pacientes_df[\"VCM 2\"] = np.random.randint(80, 100, size=len(nuevos_pacientes_df))\n",
        "nuevos_pacientes_df[\"VCM 3\"] = np.random.randint(80, 100, size=len(nuevos_pacientes_df))\n",
        "nuevos_pacientes_df[\"VCM 4\"] = np.random.randint(80, 100, size=len(nuevos_pacientes_df))\n",
        "nuevos_pacientes_df[\"VCM 5\"] = np.random.randint(80, 100, size=len(nuevos_pacientes_df))\n",
        "\n",
        "nuevos_pacientes_df[\"CV_VCM\"] = nuevos_pacientes_df[\n",
        "    [\"VCM 1\", \"VCM 2\", \"VCM 3\", \"VCM 4\", \"VCM 5\"]\n",
        "].std(axis=1) / nuevos_pacientes_df[[\"VCM 1\", \"VCM 2\", \"VCM 3\", \"VCM 4\", \"VCM 5\"]].mean(\n",
        "    axis=1\n",
        ")\n",
        "\n",
        "\n",
        "X_anemia_test = nuevos_pacientes_df[[\"CV_Hb\", \"CV_VCM\"]]\n",
        "\n",
        "# Realizar predicciones con el modelo entrenado\n",
        "nuevas_predicciones = model_anemia.predict(X_anemia_test)\n",
        "\n",
        "# Agregar las predicciones al DataFrame de nuevos pacientes\n",
        "nuevos_pacientes_df[\"Categoría de Riesgo\"] = nuevas_predicciones"
      ]
    },
    {
      "cell_type": "code",
      "execution_count": null,
      "metadata": {
        "id": "8qqNpVyAiLg8"
      },
      "outputs": [],
      "source": [
        "nuevos_pacientes_df[nuevos_pacientes_df['Categoría de Riesgo'] == 'Sin Riesgo de Anemia']"
      ]
    },
    {
      "cell_type": "code",
      "execution_count": null,
      "metadata": {
        "id": "RJAvBFuriW92"
      },
      "outputs": [],
      "source": [
        "nuevos_pacientes_df[nuevos_pacientes_df['Categoría de Riesgo'] == 'Propenso a Desarrollar Anemia']"
      ]
    },
    {
      "cell_type": "code",
      "execution_count": null,
      "metadata": {
        "id": "ygTwEVTqgI2T"
      },
      "outputs": [],
      "source": [
        "# Calcular el recuento de pacientes en cada categoría de riesgo\n",
        "recuento_categorias = nuevos_pacientes_df['Categoría de Riesgo'].value_counts()\n",
        "\n",
        "# Mostrar el recuento de pacientes en cada categoría de riesgo\n",
        "print(\"Recuento de Pacientes por Categoría de Riesgo:\")\n",
        "print(recuento_categorias)"
      ]
    }
  ],
  "metadata": {
    "colab": {
      "provenance": []
    },
    "kernelspec": {
      "display_name": "Python 3",
      "name": "python3"
    },
    "language_info": {
      "codemirror_mode": {
        "name": "ipython",
        "version": 3
      },
      "file_extension": ".py",
      "mimetype": "text/x-python",
      "name": "python",
      "nbconvert_exporter": "python",
      "pygments_lexer": "ipython3",
      "version": "3.12.4"
    }
  },
  "nbformat": 4,
  "nbformat_minor": 0
}
